{
 "cells": [
  {
   "cell_type": "code",
   "execution_count": 1,
   "metadata": {},
   "outputs": [
    {
     "name": "stdout",
     "output_type": "stream",
     "text": [
      "Введите слово: Dizel\n",
      "z\n"
     ]
    }
   ],
   "source": [
    "# задание 1\n",
    "word = input(\"Введите слово: \")\n",
    " \n",
    "f_Str = len(word)\n",
    "g_Str = f_Str / 2\n",
    "if f_Str % 2 == 0:\n",
    "    print(word[int(g_Str)-1:int(g_Str)+1])\n",
    "elif f_Str % 2 !=0:\n",
    "    print(word[int(g_Str)])"
   ]
  },
  {
   "cell_type": "code",
   "execution_count": 2,
   "metadata": {
    "scrolled": true
   },
   "outputs": [
    {
     "name": "stdout",
     "output_type": "stream",
     "text": [
      "Введите число: 52\n",
      "Введите число: 36\n",
      "Введите число: 0\n",
      "88\n"
     ]
    }
   ],
   "source": [
    "# Задание 2\n",
    "a = int(input(\"Введите число: \"))\n",
    "c = 0\n",
    "while a != 0:\n",
    "    c += a\n",
    "    a = int(input(\"Введите число: \"))\n",
    "print(c)"
   ]
  },
  {
   "cell_type": "code",
   "execution_count": 3,
   "metadata": {},
   "outputs": [],
   "source": [
    "# Задание 3\n",
    "boys = ['Peter', 'Alex', 'John', 'Arthur', 'Richard']\n",
    "girls = ['Kate', 'Liza', 'Kira', 'Emma', 'Trisha']\n",
    "\n"
   ]
  },
  {
   "cell_type": "code",
   "execution_count": 4,
   "metadata": {},
   "outputs": [
    {
     "name": "stdout",
     "output_type": "stream",
     "text": [
      "Идеальные пары:\n",
      "Alex и Emma\n",
      "Arthur и Kate\n",
      "John и Kira\n",
      "Peter и Liza\n",
      "Richard и Trisha\n"
     ]
    },
    {
     "data": {
      "text/plain": [
       "[]"
      ]
     },
     "execution_count": 4,
     "metadata": {},
     "output_type": "execute_result"
    }
   ],
   "source": [
    "if len(sorted(boys))==len(sorted(girls)):\n",
    "    perfect_couple=zip(sorted(boys),sorted(girls))\n",
    "    print('Идеальные пары:')\n",
    "    for pair in perfect_couple :\n",
    "        print(pair[0],'и', pair[1] ) \n",
    "else:\n",
    "        print('Внимание, кто-то может остаться без пары!')\n",
    "list(perfect_couple)\n",
    "    "
   ]
  },
  {
   "cell_type": "code",
   "execution_count": 5,
   "metadata": {},
   "outputs": [
    {
     "name": "stdout",
     "output_type": "stream",
     "text": [
      "Средняя температура в странах: Thailand - 23.9 C\n",
      "Средняя температура в странах: Germany - 13.8 C\n",
      "Средняя температура в странах: Russia - 3.7 C\n",
      "Средняя температура в странах: Poland - 12.0 C\n"
     ]
    }
   ],
   "source": [
    "# задание 4\n",
    "countries_temperature = [\n",
    "    ['Thailand', [75.2, 77, 78.8, 73.4, 68, 75.2, 77]],\n",
    "    ['Germany', [57.2, 55.4, 59, 59, 53.6]],\n",
    "    ['Russia', [35.6, 37.4, 39.2, 41, 42.8, 39.2, 35.6]],\n",
    "    ['Poland', [50, 50, 53.6, 57.2, 55.4, 55.4]]\n",
    "]\n",
    "total = 0.0\n",
    "average_temperature =0.0\n",
    "сelsius =0.0\n",
    "for country in countries_temperature:\n",
    "    total=sum(country[1])\n",
    "    average_temperature =total/len(country[1])\n",
    "    сelsius=(average_temperature-32)* 5 / 9\n",
    "    print('Средняя температура в странах:', country[0],'-',round(сelsius,1), 'C')"
   ]
  },
  {
   "cell_type": "code",
   "execution_count": 6,
   "metadata": {},
   "outputs": [],
   "source": [
    "# задание 5\n",
    "stream = [\n",
    "    '2018-01-01,user1,3',\n",
    "    '2018-01-07,user1,4',\n",
    "    '2018-03-29,user1,1',\n",
    "    '2018-04-04,user1,13',\n",
    "    '2018-01-05,user2,7',\n",
    "    '2018-06-14,user3,4',\n",
    "    '2018-07-02,user3,10',\n",
    "    '2018-03-21,user4,19',\n",
    "    '2018-03-22,user4,4',\n",
    "    '2018-04-22,user4,8',\n",
    "    '2018-05-03,user4,9',\n",
    "    '2018-05-11,user4,11',\n",
    "]"
   ]
  },
  {
   "cell_type": "code",
   "execution_count": 7,
   "metadata": {},
   "outputs": [
    {
     "name": "stdout",
     "output_type": "stream",
     "text": [
      "Среднее количество просмотров на уникального пользователя: 23.25\n"
     ]
    }
   ],
   "source": [
    "views = 0 \n",
    "user_list = []\n",
    "average_views=0\n",
    "for s in stream:\n",
    "    splitted_s = s.split(',')\n",
    "    views += int(splitted_s[2])\n",
    "    if splitted_s[1] not in user_list:\n",
    "        user_list.append(splitted_s[1])\n",
    "average_views=views/len(user_list)\n",
    "\n",
    "print('Среднее количество просмотров на уникального пользователя:',average_views)"
   ]
  }
 ],
 "metadata": {
  "kernelspec": {
   "display_name": "Python 3",
   "language": "python",
   "name": "python3"
  },
  "language_info": {
   "codemirror_mode": {
    "name": "ipython",
    "version": 3
   },
   "file_extension": ".py",
   "mimetype": "text/x-python",
   "name": "python",
   "nbconvert_exporter": "python",
   "pygments_lexer": "ipython3",
   "version": "3.8.5"
  }
 },
 "nbformat": 4,
 "nbformat_minor": 4
}
