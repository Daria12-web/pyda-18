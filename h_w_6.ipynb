{
 "cells": [
  {
   "cell_type": "code",
   "execution_count": null,
   "metadata": {},
   "outputs": [],
   "source": [
    "# Задание 1\n",
    "#Печатные газеты использовали свой формат дат для каждого выпуска. \n",
    "#Для каждой газеты из списка напишите формат указанной даты для перевода в объект datetime:\n",
    "#The Moscow Times - Wednesday, October 2, 2002\n",
    "#The Guardian - Friday, 11.10.13\n",
    "#Daily News - Thursday, 18 August 1977"
   ]
  },
  {
   "cell_type": "code",
   "execution_count": 1,
   "metadata": {},
   "outputs": [],
   "source": [
    "from datetime import datetime"
   ]
  },
  {
   "cell_type": "code",
   "execution_count": 15,
   "metadata": {},
   "outputs": [],
   "source": [
    "date_string = 'Wednesday, October 2, 2002'\n",
    "d_s = 'Friday, 11.10.13'\n",
    "d = 'Thursday, 18 August 1977'\n"
   ]
  },
  {
   "cell_type": "code",
   "execution_count": 16,
   "metadata": {},
   "outputs": [
    {
     "data": {
      "text/plain": [
       "(datetime.datetime(2002, 10, 2, 0, 0),\n",
       " datetime.datetime(2013, 10, 11, 0, 0),\n",
       " datetime.datetime(1977, 8, 18, 0, 0))"
      ]
     },
     "execution_count": 16,
     "metadata": {},
     "output_type": "execute_result"
    }
   ],
   "source": [
    "date_datetime = datetime.strptime( date_string, '%A, %B %d, %Y' )\n",
    "date_da = datetime.strptime( d_s, '%A, %d.%m.%y' )\n",
    "date_dt = datetime.strptime( d, '%A, %d %B %Y' )\n",
    "\n",
    "date_datetime,date_da,date_dt"
   ]
  },
  {
   "cell_type": "code",
   "execution_count": null,
   "metadata": {},
   "outputs": [],
   "source": [
    "#Задание 2\n",
    "#Дан поток дат в формате YYYY-MM-DD, в которых встречаются некорректные значения:\n",
    "#stream = [‘2018-04-02’, ‘2018-02-29’, ‘2018-19-02’]\n",
    "\n",
    "#Напишите функцию, которая проверяет эти даты на корректность.\n",
    "#Т. е. для каждой даты возвращает True (дата корректна) или False (некорректная дата)."
   ]
  },
  {
   "cell_type": "code",
   "execution_count": 17,
   "metadata": {},
   "outputs": [],
   "source": [
    "stream = ['2018-04-02', '2018-02-29', '2018-19-02']"
   ]
  },
  {
   "cell_type": "code",
   "execution_count": 18,
   "metadata": {},
   "outputs": [
    {
     "name": "stdout",
     "output_type": "stream",
     "text": [
      "дата \"2018-04-02\" корректна: True\n",
      "дата \"2018-02-29\" корректна: False\n",
      "дата \"2018-19-02\" корректна: False\n"
     ]
    }
   ],
   "source": [
    "def check_date(any_date):\n",
    "    try:\n",
    "        datetime.strptime(any_date, '%Y-%m-%d')\n",
    "        return print('дата \"{}\" корректна: {}'.format(any_date, True))\n",
    "    except ValueError:\n",
    "        return print('дата \"{}\" корректна: {}'.format(any_date, False))\n",
    "\n",
    "for dt in stream:\n",
    "    check_date(dt)"
   ]
  },
  {
   "cell_type": "code",
   "execution_count": null,
   "metadata": {},
   "outputs": [],
   "source": [
    "# Задание 3\n",
    "#Напишите функцию date_range, которая возвращает список дат за период от start_date до end_date. \n",
    "#Даты должны вводиться в формате YYYY-MM-DD. \n",
    "#В случае неверного формата или при start_date > end_date должен возвращаться пустой список."
   ]
  },
  {
   "cell_type": "code",
   "execution_count": 19,
   "metadata": {},
   "outputs": [],
   "source": [
    "from datetime import datetime, timedelta"
   ]
  },
  {
   "cell_type": "code",
   "execution_count": 20,
   "metadata": {},
   "outputs": [
    {
     "name": "stdout",
     "output_type": "stream",
     "text": [
      "Введите датау старта в формате YYYY-MM-DD:2021-01-10\n",
      "Введите конечную датау в формате YYYY-MM-DD:2021-01-20\n",
      "2021-01-10\n",
      "2021-01-11\n",
      "2021-01-12\n",
      "2021-01-13\n",
      "2021-01-14\n",
      "2021-01-15\n",
      "2021-01-16\n",
      "2021-01-17\n",
      "2021-01-18\n",
      "2021-01-19\n",
      "2021-01-20\n"
     ]
    }
   ],
   "source": [
    "s_d = input ('Введите датау старта в формате YYYY-MM-DD:')\n",
    "e_d = input ('Введите конечную датау в формате YYYY-MM-DD:')\n",
    "empty_list = []\n",
    "\n",
    "def data_range (s_d, e_d ):\n",
    "    try:\n",
    "        start_date_dt = datetime.strptime(s_d, '%Y-%m-%d')\n",
    "        end_date_dt = datetime.strptime(e_d, '%Y-%m-%d')\n",
    "        \n",
    "        current_dt = start_date_dt\n",
    "       \n",
    "        \n",
    "        while current_dt <= end_date_dt:\n",
    "            print(current_dt.strftime('%Y-%m-%d'))\n",
    "            current_dt += timedelta(days=1)\n",
    "        \n",
    "    except:\n",
    "        print (empty_list) \n",
    "\n",
    "data_range (s_d, e_d )"
   ]
  }
 ],
 "metadata": {
  "kernelspec": {
   "display_name": "Python 3",
   "language": "python",
   "name": "python3"
  },
  "language_info": {
   "codemirror_mode": {
    "name": "ipython",
    "version": 3
   },
   "file_extension": ".py",
   "mimetype": "text/x-python",
   "name": "python",
   "nbconvert_exporter": "python",
   "pygments_lexer": "ipython3",
   "version": "3.8.5"
  }
 },
 "nbformat": 4,
 "nbformat_minor": 4
}
