{
 "cells": [
  {
   "cell_type": "code",
   "execution_count": 1,
   "metadata": {},
   "outputs": [],
   "source": [
    "documents = [\n",
    " {'type': 'passport', 'number': '2207 876234', 'name': 'Василий Гупкин'},\n",
    " {'type': 'invoice', 'number': '11-2', 'name': 'Геннадий Покемонов'},\n",
    " {'type': 'insurance', 'number': '10006', 'name': 'Аристарх Павлов'}\n",
    "]\n",
    "directories = {\n",
    " '1': ['2207 876234', '11-2'],\n",
    " '2': ['10006'],\n",
    " '3': []\n",
    "}\n"
   ]
  },
  {
   "cell_type": "code",
   "execution_count": 2,
   "metadata": {
    "scrolled": true
   },
   "outputs": [
    {
     "name": "stdout",
     "output_type": "stream",
     "text": [
      "Введите команду:p\n",
      "Введите номер документа:10006\n"
     ]
    },
    {
     "data": {
      "text/plain": [
       "'Владелец документа: Аристарх Павлов'"
      ]
     },
     "execution_count": 2,
     "metadata": {},
     "output_type": "execute_result"
    }
   ],
   "source": [
    "#Задание 1\n",
    "#Пункт 1. Пользователь по команде \"p\" может узнать владельца документа по его номеру\n",
    "def people():\n",
    "    while True:\n",
    "        user_input = input('Введите команду:')\n",
    "        if user_input == 'p':\n",
    "            doc_input = input('Введите номер документа:')\n",
    "            for document in documents:\n",
    "                number = document['number']\n",
    "                name = document['name']\n",
    "                if doc_input == number:\n",
    "                    return (f'Владелец документа: {name}')\n",
    "            else:\n",
    "                print ('Документ не найден в базе')\n",
    "        elif user_input == 'q':\n",
    "            break\n",
    "        \n",
    "people()\n",
    "                          "
   ]
  },
  {
   "cell_type": "code",
   "execution_count": 3,
   "metadata": {},
   "outputs": [
    {
     "name": "stdout",
     "output_type": "stream",
     "text": [
      "Введите команду:s\n",
      "Введите номер документа:11-2\n"
     ]
    },
    {
     "data": {
      "text/plain": [
       "('Документ хранится на полке:', '1')"
      ]
     },
     "execution_count": 3,
     "metadata": {},
     "output_type": "execute_result"
    }
   ],
   "source": [
    "#Пункт 2. Пользователь по команде \"s\" может по номеру документа узнать на какой полке он хранится\n",
    "def shelf():\n",
    "    while True:\n",
    "        user_input = input('Введите команду:')\n",
    "        if user_input == 's':\n",
    "            doc_input = input('Введите номер документа:')\n",
    "            for key, value in directories.items():\n",
    "                value == key\n",
    "                return (f'Документ хранится на полке:',key)\n",
    "            else:\n",
    "                return print ('Документ не найден в базе')\n",
    "        elif user_input == 'q':\n",
    "            break\n",
    "\n",
    "\n",
    "shelf()"
   ]
  },
  {
   "cell_type": "code",
   "execution_count": null,
   "metadata": {},
   "outputs": [
    {
     "name": "stdout",
     "output_type": "stream",
     "text": [
      "Введите команду:l\n",
      "№: 2207 876234, тип: passport, владелец: Василий Гупкин\n",
      "№: 11-2, тип: invoice, владелец: Геннадий Покемонов\n",
      "№: 10006, тип: insurance, владелец: Аристарх Павлов\n"
     ]
    }
   ],
   "source": [
    "#Пункт 3. Пользователь по команде \"l\" может увидеть полную информацию по всем документам\n",
    "def list_documents(documents, directories):\n",
    "    while True:\n",
    "        user_input = input('Введите команду:')\n",
    "        if user_input == 'l':\n",
    "            for doc in documents:\n",
    "                print (f\"№: {doc['number']}, тип: {doc['type']}, владелец: {doc['name']}\",sep='')\n",
    "        elif user_input == 'q':\n",
    "            break\n",
    "        \n",
    "\n",
    "\n",
    "list_documents(documents,directories)\n"
   ]
  },
  {
   "cell_type": "code",
   "execution_count": 4,
   "metadata": {},
   "outputs": [
    {
     "name": "stdout",
     "output_type": "stream",
     "text": [
      "Введите команду:ads\n",
      "введите номер полки:32\n"
     ]
    },
    {
     "data": {
      "text/plain": [
       "'Полка добавлена. Текущий перечень полок:1,2,3,25,32'"
      ]
     },
     "execution_count": 4,
     "metadata": {},
     "output_type": "execute_result"
    }
   ],
   "source": [
    "#Пункт 4. Пользователь по команде \"ads\" может добавить новую полку\n",
    "def add_shelf():\n",
    "    while True:\n",
    "        user_input = input('Введите команду:')\n",
    "        if user_input == 'ads':\n",
    "            shelf_number = input ('введите номер полки:')\n",
    "            if shelf_number in directories:\n",
    "                return 'Такая полка уже существует. Текущий перечень полок:' , ','.join(directories.keys())\n",
    "            else:\n",
    "                directories[shelf_number] = []\n",
    "                return 'Полка добавлена. Текущий перечень полок:' + ','.join(directories.keys())\n",
    "        elif user_input == 'q':\n",
    "            break\n",
    "       \n",
    "        \n",
    "        \n",
    "    \n",
    " \n",
    " \n",
    "add_shelf()"
   ]
  },
  {
   "cell_type": "code",
   "execution_count": 5,
   "metadata": {},
   "outputs": [
    {
     "name": "stdout",
     "output_type": "stream",
     "text": [
      "Введите команду:ds\n",
      "введите номер полки:25\n"
     ]
    },
    {
     "data": {
      "text/plain": [
       "'Полка удалена. Текущий перечень полок: 1, 2, 3, 32'"
      ]
     },
     "execution_count": 5,
     "metadata": {},
     "output_type": "execute_result"
    }
   ],
   "source": [
    "def delete():\n",
    "    while True:\n",
    "        user_input = input('Введите команду:')\n",
    "        if user_input == 'ds':\n",
    "            number = input ('введите номер полки:')\n",
    "            if number in directories:\n",
    "                if len(directories[number]) > 0:\n",
    "                    return 'На полке есть документа, удалите их перед удалением полки. Текущий перечень полок: ' + ', '.join(directories.keys())\n",
    "                del directories[number]\n",
    "                return('Полка удалена. Текущий перечень полок: ' + ', '.join(directories.keys()))\n",
    "                return ('Такой полки не существует. Текущий перечень полок:' + ', '.join(directories.keys()))\n",
    "        elif user_input == 'q':\n",
    "            break\n",
    "delete()"
   ]
  }
 ],
 "metadata": {
  "kernelspec": {
   "display_name": "Python 3",
   "language": "python",
   "name": "python3"
  },
  "language_info": {
   "codemirror_mode": {
    "name": "ipython",
    "version": 3
   },
   "file_extension": ".py",
   "mimetype": "text/x-python",
   "name": "python",
   "nbconvert_exporter": "python",
   "pygments_lexer": "ipython3",
   "version": "3.8.5"
  }
 },
 "nbformat": 4,
 "nbformat_minor": 4
}
