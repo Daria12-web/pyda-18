{
 "cells": [
  {
   "cell_type": "code",
   "execution_count": 1,
   "metadata": {},
   "outputs": [
    {
     "name": "stdout",
     "output_type": "stream",
     "text": [
      "Средняя температура в странах: Thailand - 23.9 C\n",
      "Средняя температура в странах: Germany - 13.8 C\n",
      "Средняя температура в странах: Russia - 3.7 C\n",
      "Средняя температура в странах: Poland - 12.0 C\n"
     ]
    }
   ],
   "source": [
    "# задание 4\n",
    "countries_temperature = [\n",
    "    ['Thailand', [75.2, 77, 78.8, 73.4, 68, 75.2, 77]],\n",
    "    ['Germany', [57.2, 55.4, 59, 59, 53.6]],\n",
    "    ['Russia', [35.6, 37.4, 39.2, 41, 42.8, 39.2, 35.6]],\n",
    "    ['Poland', [50, 50, 53.6, 57.2, 55.4, 55.4]]\n",
    "]\n",
    "total = 0.0\n",
    "average_temperature =0.0\n",
    "сelsius =0.0\n",
    "for country in countries_temperature:\n",
    "    total=sum(country[1])\n",
    "    average_temperature =total/len(country[1])\n",
    "    сelsius=(average_temperature-32)* 5 / 9\n",
    "    print('Средняя температура в странах:', country[0],'-',round(сelsius,1), 'C')"
   ]
  }
 ],
 "metadata": {
  "kernelspec": {
   "display_name": "Python 3",
   "language": "python",
   "name": "python3"
  },
  "language_info": {
   "codemirror_mode": {
    "name": "ipython",
    "version": 3
   },
   "file_extension": ".py",
   "mimetype": "text/x-python",
   "name": "python",
   "nbconvert_exporter": "python",
   "pygments_lexer": "ipython3",
   "version": "3.8.5"
  }
 },
 "nbformat": 4,
 "nbformat_minor": 4
}
