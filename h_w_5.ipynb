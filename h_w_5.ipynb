{
 "cells": [
  {
   "cell_type": "code",
   "execution_count": null,
   "metadata": {},
   "outputs": [],
   "source": [
    "#Домашнее задание к лекции Работа с файловой системой и модули"
   ]
  },
  {
   "cell_type": "code",
   "execution_count": 1,
   "metadata": {},
   "outputs": [],
   "source": [
    "import json"
   ]
  },
  {
   "cell_type": "code",
   "execution_count": 2,
   "metadata": {},
   "outputs": [
    {
     "name": "stdout",
     "output_type": "stream",
     "text": [
      "{'user_id': 'category'}\n",
      "{'1840e0b9d4': 'Продукты'}\n",
      "{'4e4f90fcfb': 'Электроника'}\n",
      "{'afea8d72fc': 'Электроника'}\n",
      "{'373a6055fe': 'Бытовая техника'}\n",
      "{'9b2ab046f3': 'Электроника'}\n",
      "{'9f39d307c3': 'Электроника'}\n",
      "{'44edeffc91': 'Продукты'}\n",
      "{'704474fa2d': 'Продукты'}\n",
      "{'1de31be403': 'Бытовая техника'}\n"
     ]
    }
   ],
   "source": [
    "i = 0\n",
    "dic = {}\n",
    "\n",
    "with open('purchase_log.txt','r', encoding = 'utf-8') as f:\n",
    "    for line in f:\n",
    "        line = line.strip() \n",
    "        \n",
    "        dict_ = json.loads(line) \n",
    "        \n",
    "        for x in dict_.items():\n",
    "            key = dict_['user_id']\n",
    "            value = dict_['category']\n",
    "            dic = {key : value}\n",
    "                  \n",
    "        i = i+1\n",
    "        if i > 10:\n",
    "            break\n",
    "        \n",
    "        print(dic)"
   ]
  },
  {
   "cell_type": "code",
   "execution_count": 11,
   "metadata": {},
   "outputs": [
    {
     "name": "stdout",
     "output_type": "stream",
     "text": [
      "['b71f36a5e4', 'other', 'Продукты']\n"
     ]
    }
   ],
   "source": [
    "with open('visit_log.csv','r', encoding = 'utf-8') as v_list:\n",
    "    with open('funnel.csv','w', encoding = 'utf-8') as f:\n",
    "        for element in v_list:\n",
    "            element = element.strip().split(',')\n",
    "            if element[0] in dic:\n",
    "                f_list = element\n",
    "                f_list.append(dic.get(element[0]))\n",
    "                f.write(str(f_list))\n",
    "        print(f_list)\n",
    "    "
   ]
  },
  {
   "cell_type": "code",
   "execution_count": 5,
   "metadata": {},
   "outputs": [
    {
     "data": {
      "text/plain": [
       "\"['b71f36a5e4', 'other', 'Продукты']\""
      ]
     },
     "execution_count": 5,
     "metadata": {},
     "output_type": "execute_result"
    }
   ],
   "source": [
    "f =  open('funnel.csv','r', encoding = 'utf-8')\n",
    "f.readline()"
   ]
  }
 ],
 "metadata": {
  "kernelspec": {
   "display_name": "Python 3",
   "language": "python",
   "name": "python3"
  },
  "language_info": {
   "codemirror_mode": {
    "name": "ipython",
    "version": 3
   },
   "file_extension": ".py",
   "mimetype": "text/x-python",
   "name": "python",
   "nbconvert_exporter": "python",
   "pygments_lexer": "ipython3",
   "version": "3.8.5"
  }
 },
 "nbformat": 4,
 "nbformat_minor": 4
}
