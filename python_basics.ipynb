{
 "cells": [
  {
   "cell_type": "markdown",
   "metadata": {},
   "source": [
    "Задание 1"
   ]
  },
  {
   "cell_type": "code",
   "execution_count": 1,
   "metadata": {},
   "outputs": [],
   "source": [
    "phrase_1= \"Обустройте отдельное рабочее место в доме, чтобы разделить пространства работы и отдыха.\"\n"
   ]
  },
  {
   "cell_type": "code",
   "execution_count": 2,
   "metadata": {},
   "outputs": [],
   "source": [
    "phrase_2= \"Движение — хорошая возможность перезагрузить голову и улучшить самочувствие, пользуйтесь этим.\"\n"
   ]
  },
  {
   "cell_type": "code",
   "execution_count": 3,
   "metadata": {},
   "outputs": [
    {
     "data": {
      "text/plain": [
       "'Обустройте отдельное рабочее место в доме, чтобы разделить пространства работы и отдыха.'"
      ]
     },
     "execution_count": 3,
     "metadata": {},
     "output_type": "execute_result"
    }
   ],
   "source": [
    "phrase_1"
   ]
  },
  {
   "cell_type": "code",
   "execution_count": 4,
   "metadata": {},
   "outputs": [
    {
     "name": "stdout",
     "output_type": "stream",
     "text": [
      "Фраза 2 длинее фразы 1\n"
     ]
    }
   ],
   "source": [
    "len(phrase_1)>len(phrase_2)\n",
    "print ('Фраза 2 длинее фразы 1')\n"
   ]
  },
  {
   "cell_type": "markdown",
   "metadata": {},
   "source": [
    "Задание 2"
   ]
  },
  {
   "cell_type": "code",
   "execution_count": 5,
   "metadata": {},
   "outputs": [],
   "source": [
    "year = 2020\n"
   ]
  },
  {
   "cell_type": "code",
   "execution_count": 6,
   "metadata": {},
   "outputs": [
    {
     "name": "stdout",
     "output_type": "stream",
     "text": [
      "Обычный год\n",
      "Конец программы\n"
     ]
    }
   ],
   "source": [
    "year = 2021\n",
    "if year > 2020:\n",
    "    print ('Обычный год')\n",
    "\n",
    "print(\"Конец программы\")\n"
   ]
  },
  {
   "cell_type": "markdown",
   "metadata": {},
   "source": [
    "Задание 3"
   ]
  },
  {
   "cell_type": "code",
   "execution_count": 7,
   "metadata": {},
   "outputs": [
    {
     "name": "stdout",
     "output_type": "stream",
     "text": [
      "Введите день рождения:19\n",
      "Введите месяц рождения:7\n",
      "Введите год рождения:1968\n",
      "Знак зодиака:Рак\n"
     ]
    }
   ],
   "source": [
    "date=int(input(\"Введите день рождения:\"))\n",
    "\n",
    "month=int(input(\"Введите месяц рождения:\"))\n",
    "\n",
    "year=int(input(\"Введите год рождения:\"))\n",
    "\n",
    "\n",
    "if (date>=21 and date<=31 and month==3) or( month==4 and date>=1 and date<=19):\n",
    "    print(\"Знак зодиака:Овен\")\n",
    "elif (date>=20 and date<=30 and month==4) or( month==5 and date>=1 and date<=20):\n",
    "    print(\"Знак зодиака:Телец\")\n",
    "elif (date>=21 and date<=31 and month==5) or( month==6 and date>=1 and date<=21):\n",
    "    print(\"Знак зодиака:Близнецы\")\n",
    "elif (date>=22 and date<=30 and month==6) or( month==7 and date>=1 and date<=22):\n",
    "    print(\"Знак зодиака:Рак\")\n",
    "elif (date>=23 and date<=31 and month==7) or( month==8 and date>=1 and date<=22):\n",
    "    print(\"Знак зодиака:Лев\")\n",
    "elif (date>=23 and date<=31 and month==8) or( month==9 and date>=1 and date<=22):\n",
    "    print(\"Знак зодиака:Дева\")\n",
    "elif (date>=23 and date<=30 and month==9) or( month==10 and date>=1 and date<=23):\n",
    "    print(\"Знак зодиака:Весы\")\n",
    "elif (date>=24 and date<=31 and month==10) or( month==11 and date>=1 and date<=22):\n",
    "    print(\"Знак зодиака:Скорпион\")\n",
    "elif (date>=23 and date<=30 and month==11) or( month==12 and date>=1 and date<=21):\n",
    "    print(\"Знак зодиака:Стрелец\")\n",
    "elif (date>=22 and date<=31 and month==12) or( month==1 and date>=1 and date<=20):\n",
    "    print(\"Знак зодиака:Козерог\")\n",
    "elif (date>=21 and date<=31 and month==1) or( month==2 and date>=1 and date<=18):\n",
    "    print(\"Знак зодиака:Водолей\")\n",
    "elif (date>=19 and date<=29 and month==2) or( month==3 and date>=1 and date<=20):\n",
    "    print(\"Знак зодиака:Рыбы\")\n",
    "    print('Конец программы')"
   ]
  },
  {
   "cell_type": "markdown",
   "metadata": {},
   "source": [
    "Задание 4"
   ]
  },
  {
   "cell_type": "code",
   "execution_count": 20,
   "metadata": {},
   "outputs": [
    {
     "name": "stdout",
     "output_type": "stream",
     "text": [
      "Введите  ширину в см: 15\n",
      "Введите  длину в см: 15\n",
      "Введите  высоту в см: 15\n",
      "Коробка№1\n",
      "Конец программы\n"
     ]
    }
   ],
   "source": [
    "width = int(input('Введите  ширину в см: '))\n",
    "length = int(input('Введите  длину в см: '))\n",
    "height = int(input('Введите  высоту в см: '))\n",
    "if (width <= 15 and length <= 15 and height <= 15):\n",
    "    print('Коробка№1')\n",
    "elif (15 < width <= 50 or 15 < length <= 50  or 15 < height <= 50):\n",
    "    print('Коробка№2')\n",
    "elif (width > 200 or length > 200 or heigth > 200):\n",
    "    print('Упаковка для лыж')\n",
    "else:\n",
    "    print('Коробка№3')\n",
    "print ('Конец программы')\n",
    "\n"
   ]
  },
  {
   "cell_type": "code",
   "execution_count": 19,
   "metadata": {},
   "outputs": [
    {
     "name": "stdout",
     "output_type": "stream",
     "text": [
      "Введите  ширину в см: 45\n",
      "Введите  длину в см: 205\n",
      "Введите  высоту в см: 45\n",
      "Упаковка для лыж\n",
      "Конец программы\n"
     ]
    }
   ],
   "source": [
    "width = int(input('Введите  ширину в см: '))\n",
    "length = int(input('Введите  длину в см: '))\n",
    "height = int(input('Введите  высоту в см: '))\n",
    "if (width > 200 or length > 200 or heigth > 200):\n",
    "    print('Упаковка для лыж')\n",
    "elif (width <= 15 and length <= 15 and height <= 15):\n",
    "    print('Коробка№1')\n",
    "elif (15 < width <= 50 or 15 < length <= 50  or 15 < height <= 50):\n",
    "    print('Коробка№2')\n",
    "else:\n",
    "    print('Коробка№3')\n",
    "print ('Конец программы')"
   ]
  },
  {
   "cell_type": "code",
   "execution_count": null,
   "metadata": {},
   "outputs": [],
   "source": [
    "В задании №4 не получаеться выполнить все условия задачи, делаю как в лекционном материале, но не получаеться. Почему не понимаю"
   ]
  }
 ],
 "metadata": {
  "kernelspec": {
   "display_name": "Python 3",
   "language": "python",
   "name": "python3"
  },
  "language_info": {
   "codemirror_mode": {
    "name": "ipython",
    "version": 3
   },
   "file_extension": ".py",
   "mimetype": "text/x-python",
   "name": "python",
   "nbconvert_exporter": "python",
   "pygments_lexer": "ipython3",
   "version": "3.8.5"
  }
 },
 "nbformat": 4,
 "nbformat_minor": 4
}
