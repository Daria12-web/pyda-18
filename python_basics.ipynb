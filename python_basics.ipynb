{
 "cells": [
  {
   "cell_type": "markdown",
   "metadata": {},
   "source": [
    "Задание 1"
   ]
  },
  {
   "cell_type": "code",
   "execution_count": 1,
   "metadata": {},
   "outputs": [],
   "source": [
    "phrase_1= \"Обустройте отдельное рабочее место в доме, чтобы разделить пространства работы и отдыха.\"\n"
   ]
  },
  {
   "cell_type": "code",
   "execution_count": 2,
   "metadata": {},
   "outputs": [],
   "source": [
    "phrase_2= \"Движение — хорошая возможность перезагрузить голову и улучшить самочувствие, пользуйтесь этим.\"\n"
   ]
  },
  {
   "cell_type": "code",
   "execution_count": 3,
   "metadata": {},
   "outputs": [
    {
     "name": "stdout",
     "output_type": "stream",
     "text": [
      "Фраза 2 длинее фразы 1\n"
     ]
    }
   ],
   "source": [
    "if len(phrase_1) < len(phrase_2):\n",
    "    print('Фраза 2 длинее фразы 1')\n",
    "elif phrase_1 > phrase_2:\n",
    "    print(\"фраза 1 длиннее фразы 2\")\n",
    "else:\n",
    "    print(\"фразы равны\")\n"
   ]
  },
  {
   "cell_type": "markdown",
   "metadata": {},
   "source": [
    "Задание 2"
   ]
  },
  {
   "cell_type": "code",
   "execution_count": 4,
   "metadata": {},
   "outputs": [
    {
     "name": "stdout",
     "output_type": "stream",
     "text": [
      "Введите год:2022\n",
      "Обычный год\n",
      "Конец программы\n"
     ]
    }
   ],
   "source": [
    "year=int(input(\"Введите год:\"))\n",
    "if year % 400 == 0:\n",
    "    print('Високосный год')\n",
    "elif year % 100 == 0:\n",
    "    print('Високосный год')\n",
    "elif year % 4 == 0:\n",
    "    print('Високосный год')\n",
    "else:\n",
    "    print('Обычный год')\n",
    "print('Конец программы')"
   ]
  },
  {
   "cell_type": "markdown",
   "metadata": {},
   "source": [
    "Задание 3"
   ]
  },
  {
   "cell_type": "code",
   "execution_count": 2,
   "metadata": {},
   "outputs": [
    {
     "name": "stdout",
     "output_type": "stream",
     "text": [
      "Введите день рождения:23\n",
      "Введите месяц рождения:04\n",
      "Знак зодиака:Телец\n"
     ]
    }
   ],
   "source": [
    "date=int(input(\"Введите день рождения:\"))\n",
    "\n",
    "month=int(input(\"Введите месяц рождения:\"))\n",
    "\n",
    "if(date>=21 and date<=31 and month==3)or( month==4 and date>=1 and date<=19):\n",
    "    print(\"Знак зодиака:Овен\")\n",
    "elif(date>=20 and date<=30 and month==4)or( month==5 and date>=1 and date<=20):\n",
    "    print(\"Знак зодиака:Телец\")\n",
    "elif (date>=21 and date<=31 and month==5)or( month==6 and date>=1 and date<=21):\n",
    "    print(\"Знак зодиака:Близнецы\")\n",
    "elif(date>=22 and date<=30 and month==6)or( month==7 and date>=1 and date<=22):\n",
    "    print(\"Знак зодиака:Рак\")\n",
    "elif(date>=23 and date<=31 and month==7)or( month==8 and date>=1 and date<=22):\n",
    "    print(\"Знак зодиака:Лев\")\n",
    "elif(date>=23 and date<=31 and month==8)or( month==9 and date>=1 and date<=22):\n",
    "    print(\"Знак зодиака:Дева\")\n",
    "elif(date>=23 and date<=30 and month==9)or( month==10 and date>=1 and date<=23):\n",
    "    print(\"Знак зодиака:Весы\")\n",
    "elif(date>=24 and date<=31 and month==10)or( month==11 and date>=1 and date<=22):\n",
    "    print(\"Знак зодиака:Скорпион\")\n",
    "elif(date>=23 and date<=30 and month==11)or( month==12 and date>=1 and date<=21):\n",
    "    print(\"Знак зодиака:Стрелец\")\n",
    "elif(date>=22 and date<=31 and month==12)or( month==1 and date>=1 and date<=20):\n",
    "    print(\"Знак зодиака:Козерог\")\n",
    "elif(date>=21 and date<=31 and month==1)or( month==2 and date>=1 and date<=18):\n",
    "    print(\"Знак зодиака:Водолей\")\n",
    "elif(date>=19 and date<=29 and month==2)or( month==3 and date>=1 and date<=20):\n",
    "    print(\"Знак зодиака:Рыбы\")\n",
    "    print('Конец программы')"
   ]
  },
  {
   "cell_type": "code",
   "execution_count": 1,
   "metadata": {},
   "outputs": [
    {
     "name": "stdout",
     "output_type": "stream",
     "text": [
      "Введите  ширину в см: 15\n",
      "Введите  длину в см: 50\n",
      "Введите  высоту в см: 15\n",
      "Стандартная коробка №3\n",
      "Конец программы\n"
     ]
    }
   ],
   "source": [
    "# Задание 4\n",
    "width = int(input('Введите  ширину в см: '))\n",
    "length = int(input('Введите  длину в см: '))\n",
    "height = int(input('Введите  высоту в см: '))\n",
    "if length > 200:\n",
    "    print('Упаковка для лыж')\n",
    "elif(width < 15 and length < 15 and height < 15):\n",
    "    print('Коробка №1')\n",
    "elif(15 < width < 50 or 15 < length < 50 or 15 < height < 50):\n",
    "    print('Коробка №2')\n",
    "else:\n",
    "    print('Стандартная коробка №3')\n",
    "print('Конец программы')\n"
   ]
  }
 ],
 "metadata": {
  "kernelspec": {
   "display_name": "Python 3",
   "language": "python",
   "name": "python3"
  },
  "language_info": {
   "codemirror_mode": {
    "name": "ipython",
    "version": 3
   },
   "file_extension": ".py",
   "mimetype": "text/x-python",
   "name": "python",
   "nbconvert_exporter": "python",
   "pygments_lexer": "ipython3",
   "version": "3.8.5"
  }
 },
 "nbformat": 4,
 "nbformat_minor": 4
}
